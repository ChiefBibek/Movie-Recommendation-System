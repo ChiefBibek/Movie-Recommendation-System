{
 "cells": [
  {
   "cell_type": "code",
   "execution_count": 15,
   "metadata": {},
   "outputs": [],
   "source": [
    "import pandas as pd\n",
    "import numpy as np"
   ]
  },
  {
   "cell_type": "code",
   "execution_count": 16,
   "metadata": {},
   "outputs": [],
   "source": [
    "from sklearn.feature_extraction.text import TfidfVectorizer\n",
    "from sklearn.metrics.pairwise import cosine_similarity"
   ]
  },
  {
   "cell_type": "code",
   "execution_count": 17,
   "metadata": {},
   "outputs": [],
   "source": [
    "df= pd.read_csv('movie_data.csv')"
   ]
  },
  {
   "cell_type": "code",
   "execution_count": 18,
   "metadata": {},
   "outputs": [
    {
     "data": {
      "text/html": [
       "<div>\n",
       "<style scoped>\n",
       "    .dataframe tbody tr th:only-of-type {\n",
       "        vertical-align: middle;\n",
       "    }\n",
       "\n",
       "    .dataframe tbody tr th {\n",
       "        vertical-align: top;\n",
       "    }\n",
       "\n",
       "    .dataframe thead th {\n",
       "        text-align: right;\n",
       "    }\n",
       "</style>\n",
       "<table border=\"1\" class=\"dataframe\">\n",
       "  <thead>\n",
       "    <tr style=\"text-align: right;\">\n",
       "      <th></th>\n",
       "      <th>index</th>\n",
       "      <th>actor_2_name</th>\n",
       "      <th>genres</th>\n",
       "      <th>actor_1_name</th>\n",
       "      <th>movie_title</th>\n",
       "      <th>actor_3_name</th>\n",
       "      <th>imdb_score</th>\n",
       "    </tr>\n",
       "  </thead>\n",
       "  <tbody>\n",
       "    <tr>\n",
       "      <th>0</th>\n",
       "      <td>0</td>\n",
       "      <td>Joel David Moore</td>\n",
       "      <td>Action|Adventure|Fantasy|Sci-Fi</td>\n",
       "      <td>CCH Pounder</td>\n",
       "      <td>Avatar</td>\n",
       "      <td>Wes Studi</td>\n",
       "      <td>7.9</td>\n",
       "    </tr>\n",
       "    <tr>\n",
       "      <th>1</th>\n",
       "      <td>1</td>\n",
       "      <td>Orlando Bloom</td>\n",
       "      <td>Action|Adventure|Fantasy</td>\n",
       "      <td>Johnny Depp</td>\n",
       "      <td>Pirates of the Caribbean: At World's End</td>\n",
       "      <td>Jack Davenport</td>\n",
       "      <td>7.1</td>\n",
       "    </tr>\n",
       "    <tr>\n",
       "      <th>2</th>\n",
       "      <td>2</td>\n",
       "      <td>Rory Kinnear</td>\n",
       "      <td>Action|Adventure|Thriller</td>\n",
       "      <td>Christoph Waltz</td>\n",
       "      <td>Spectre</td>\n",
       "      <td>Stephanie Sigman</td>\n",
       "      <td>6.8</td>\n",
       "    </tr>\n",
       "    <tr>\n",
       "      <th>3</th>\n",
       "      <td>3</td>\n",
       "      <td>Christian Bale</td>\n",
       "      <td>Action|Thriller</td>\n",
       "      <td>Tom Hardy</td>\n",
       "      <td>The Dark Knight Rises</td>\n",
       "      <td>Joseph Gordon-Levitt</td>\n",
       "      <td>8.5</td>\n",
       "    </tr>\n",
       "    <tr>\n",
       "      <th>4</th>\n",
       "      <td>4</td>\n",
       "      <td>Rob Walker</td>\n",
       "      <td>Documentary</td>\n",
       "      <td>Doug Walker</td>\n",
       "      <td>Star Wars: Episode VII - The Force Awakens    ...</td>\n",
       "      <td>NaN</td>\n",
       "      <td>7.1</td>\n",
       "    </tr>\n",
       "  </tbody>\n",
       "</table>\n",
       "</div>"
      ],
      "text/plain": [
       "   index      actor_2_name                           genres     actor_1_name  \\\n",
       "0      0  Joel David Moore  Action|Adventure|Fantasy|Sci-Fi      CCH Pounder   \n",
       "1      1     Orlando Bloom         Action|Adventure|Fantasy      Johnny Depp   \n",
       "2      2      Rory Kinnear        Action|Adventure|Thriller  Christoph Waltz   \n",
       "3      3    Christian Bale                  Action|Thriller        Tom Hardy   \n",
       "4      4        Rob Walker                      Documentary      Doug Walker   \n",
       "\n",
       "                                         movie_title          actor_3_name  \\\n",
       "0                                            Avatar              Wes Studi   \n",
       "1          Pirates of the Caribbean: At World's End         Jack Davenport   \n",
       "2                                           Spectre       Stephanie Sigman   \n",
       "3                             The Dark Knight Rises   Joseph Gordon-Levitt   \n",
       "4  Star Wars: Episode VII - The Force Awakens    ...                   NaN   \n",
       "\n",
       "   imdb_score  \n",
       "0         7.9  \n",
       "1         7.1  \n",
       "2         6.8  \n",
       "3         8.5  \n",
       "4         7.1  "
      ]
     },
     "execution_count": 18,
     "metadata": {},
     "output_type": "execute_result"
    }
   ],
   "source": [
    "df.head()\n"
   ]
  },
  {
   "cell_type": "code",
   "execution_count": 19,
   "metadata": {},
   "outputs": [
    {
     "name": "stdout",
     "output_type": "stream",
     "text": [
      "<class 'pandas.core.frame.DataFrame'>\n",
      "RangeIndex: 5043 entries, 0 to 5042\n",
      "Data columns (total 7 columns):\n",
      " #   Column        Non-Null Count  Dtype  \n",
      "---  ------        --------------  -----  \n",
      " 0   index         5043 non-null   int64  \n",
      " 1   actor_2_name  5030 non-null   object \n",
      " 2   genres        5043 non-null   object \n",
      " 3   actor_1_name  5036 non-null   object \n",
      " 4   movie_title   5043 non-null   object \n",
      " 5   actor_3_name  5020 non-null   object \n",
      " 6   imdb_score    5043 non-null   float64\n",
      "dtypes: float64(1), int64(1), object(5)\n",
      "memory usage: 275.9+ KB\n"
     ]
    }
   ],
   "source": [
    "df.info()"
   ]
  },
  {
   "cell_type": "code",
   "execution_count": 20,
   "metadata": {},
   "outputs": [
    {
     "name": "stdout",
     "output_type": "stream",
     "text": [
      "index            0\n",
      "actor_2_name    13\n",
      "genres           0\n",
      "actor_1_name     7\n",
      "movie_title      0\n",
      "actor_3_name    23\n",
      "imdb_score       0\n",
      "dtype: int64\n"
     ]
    }
   ],
   "source": [
    "print(df.isnull().sum())"
   ]
  },
  {
   "cell_type": "code",
   "execution_count": 21,
   "metadata": {},
   "outputs": [],
   "source": [
    "missing_all_actors = df[['actor_1_name', 'actor_2_name', 'actor_3_name']].isnull().all(axis=1)\n"
   ]
  },
  {
   "cell_type": "code",
   "execution_count": 22,
   "metadata": {},
   "outputs": [
    {
     "name": "stdout",
     "output_type": "stream",
     "text": [
      "      index actor_2_name              genres actor_1_name  \\\n",
      "4502   4502          NaN         Documentary          NaN   \n",
      "4519   4519          NaN   Documentary|Drama          NaN   \n",
      "4720   4720          NaN         Documentary          NaN   \n",
      "4837   4837          NaN         Documentary          NaN   \n",
      "4945   4945          NaN  Documentary|Family          NaN   \n",
      "4946   4946          NaN     Documentary|War          NaN   \n",
      "4990   4990          NaN         Documentary          NaN   \n",
      "\n",
      "                   movie_title actor_3_name  imdb_score  \n",
      "4502       Pink Ribbons, Inc.           NaN         7.4  \n",
      "4519       Sex with Strangers           NaN         4.7  \n",
      "4720   The Harvest/La Cosecha           NaN         7.2  \n",
      "4837   Ayurveda: Art of Being           NaN         7.6  \n",
      "4945     The Brain That Sings           NaN         8.2  \n",
      "4946  The Blood of My Brother           NaN         6.6  \n",
      "4990                 Counting           NaN         6.0  \n"
     ]
    }
   ],
   "source": [
    "print(df[missing_all_actors])"
   ]
  },
  {
   "cell_type": "code",
   "execution_count": 23,
   "metadata": {},
   "outputs": [],
   "source": [
    "indices_to_drop = df.index[missing_all_actors]"
   ]
  },
  {
   "cell_type": "code",
   "execution_count": 24,
   "metadata": {},
   "outputs": [],
   "source": [
    "df.drop(indices_to_drop, inplace=True)"
   ]
  },
  {
   "cell_type": "code",
   "execution_count": null,
   "metadata": {},
   "outputs": [],
   "source": []
  }
 ],
 "metadata": {
  "kernelspec": {
   "display_name": "Python 3",
   "language": "python",
   "name": "python3"
  },
  "language_info": {
   "codemirror_mode": {
    "name": "ipython",
    "version": 3
   },
   "file_extension": ".py",
   "mimetype": "text/x-python",
   "name": "python",
   "nbconvert_exporter": "python",
   "pygments_lexer": "ipython3",
   "version": "3.12.1"
  }
 },
 "nbformat": 4,
 "nbformat_minor": 2
}
